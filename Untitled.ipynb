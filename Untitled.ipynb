{
 "cells": [
  {
   "cell_type": "code",
   "execution_count": 1,
   "metadata": {
    "collapsed": true
   },
   "outputs": [],
   "source": [
    "import numpy as np\n",
    "import pandas as pd"
   ]
  },
  {
   "cell_type": "code",
   "execution_count": 2,
   "metadata": {
    "collapsed": true
   },
   "outputs": [],
   "source": [
    "df = pd.DataFrame(np.random.rand(7, 6), columns=list('abcdef'))"
   ]
  },
  {
   "cell_type": "code",
   "execution_count": 3,
   "metadata": {},
   "outputs": [
    {
     "data": {
      "text/html": [
       "<div>\n",
       "<style>\n",
       "    .dataframe thead tr:only-child th {\n",
       "        text-align: right;\n",
       "    }\n",
       "\n",
       "    .dataframe thead th {\n",
       "        text-align: left;\n",
       "    }\n",
       "\n",
       "    .dataframe tbody tr th {\n",
       "        vertical-align: top;\n",
       "    }\n",
       "</style>\n",
       "<table border=\"1\" class=\"dataframe\">\n",
       "  <thead>\n",
       "    <tr style=\"text-align: right;\">\n",
       "      <th></th>\n",
       "      <th>a</th>\n",
       "      <th>b</th>\n",
       "      <th>c</th>\n",
       "      <th>d</th>\n",
       "      <th>e</th>\n",
       "      <th>f</th>\n",
       "    </tr>\n",
       "  </thead>\n",
       "  <tbody>\n",
       "    <tr>\n",
       "      <th>0</th>\n",
       "      <td>0.098250</td>\n",
       "      <td>0.226167</td>\n",
       "      <td>0.365626</td>\n",
       "      <td>0.906162</td>\n",
       "      <td>0.224052</td>\n",
       "      <td>0.847546</td>\n",
       "    </tr>\n",
       "    <tr>\n",
       "      <th>1</th>\n",
       "      <td>0.957443</td>\n",
       "      <td>0.058971</td>\n",
       "      <td>0.622586</td>\n",
       "      <td>0.952835</td>\n",
       "      <td>0.241494</td>\n",
       "      <td>0.092930</td>\n",
       "    </tr>\n",
       "    <tr>\n",
       "      <th>2</th>\n",
       "      <td>0.524501</td>\n",
       "      <td>0.475641</td>\n",
       "      <td>0.782111</td>\n",
       "      <td>0.191920</td>\n",
       "      <td>0.902345</td>\n",
       "      <td>0.388506</td>\n",
       "    </tr>\n",
       "    <tr>\n",
       "      <th>3</th>\n",
       "      <td>0.769827</td>\n",
       "      <td>0.945731</td>\n",
       "      <td>0.837680</td>\n",
       "      <td>0.169358</td>\n",
       "      <td>0.966708</td>\n",
       "      <td>0.119558</td>\n",
       "    </tr>\n",
       "    <tr>\n",
       "      <th>4</th>\n",
       "      <td>0.505638</td>\n",
       "      <td>0.515634</td>\n",
       "      <td>0.492517</td>\n",
       "      <td>0.533210</td>\n",
       "      <td>0.520326</td>\n",
       "      <td>0.993781</td>\n",
       "    </tr>\n",
       "    <tr>\n",
       "      <th>5</th>\n",
       "      <td>0.137022</td>\n",
       "      <td>0.186979</td>\n",
       "      <td>0.830193</td>\n",
       "      <td>0.345411</td>\n",
       "      <td>0.864171</td>\n",
       "      <td>0.449214</td>\n",
       "    </tr>\n",
       "    <tr>\n",
       "      <th>6</th>\n",
       "      <td>0.274480</td>\n",
       "      <td>0.156880</td>\n",
       "      <td>0.655505</td>\n",
       "      <td>0.063488</td>\n",
       "      <td>0.735741</td>\n",
       "      <td>0.500395</td>\n",
       "    </tr>\n",
       "  </tbody>\n",
       "</table>\n",
       "</div>"
      ],
      "text/plain": [
       "          a         b         c         d         e         f\n",
       "0  0.098250  0.226167  0.365626  0.906162  0.224052  0.847546\n",
       "1  0.957443  0.058971  0.622586  0.952835  0.241494  0.092930\n",
       "2  0.524501  0.475641  0.782111  0.191920  0.902345  0.388506\n",
       "3  0.769827  0.945731  0.837680  0.169358  0.966708  0.119558\n",
       "4  0.505638  0.515634  0.492517  0.533210  0.520326  0.993781\n",
       "5  0.137022  0.186979  0.830193  0.345411  0.864171  0.449214\n",
       "6  0.274480  0.156880  0.655505  0.063488  0.735741  0.500395"
      ]
     },
     "execution_count": 3,
     "metadata": {},
     "output_type": "execute_result"
    }
   ],
   "source": [
    "df"
   ]
  },
  {
   "cell_type": "code",
   "execution_count": 23,
   "metadata": {
    "scrolled": true
   },
   "outputs": [
    {
     "data": {
      "text/plain": [
       "[          a         b         c         d         e         f\n",
       " 0  0.098250  0.226167  0.365626  0.906162  0.224052  0.847546\n",
       " 1  0.957443  0.058971  0.622586  0.952835  0.241494  0.092930\n",
       " 2  0.524501  0.475641  0.782111  0.191920  0.902345  0.388506,\n",
       "           a         b         c         d         e         f\n",
       " 3  0.769827  0.945731  0.837680  0.169358  0.966708  0.119558\n",
       " 4  0.505638  0.515634  0.492517  0.533210  0.520326  0.993781,\n",
       "           a         b         c         d         e         f\n",
       " 5  0.137022  0.186979  0.830193  0.345411  0.864171  0.449214\n",
       " 6  0.274480  0.156880  0.655505  0.063488  0.735741  0.500395]"
      ]
     },
     "execution_count": 23,
     "metadata": {},
     "output_type": "execute_result"
    }
   ],
   "source": [
    "df_split = np.array_split(df,3)\n",
    "df_split"
   ]
  },
  {
   "cell_type": "code",
   "execution_count": 24,
   "metadata": {},
   "outputs": [
    {
     "data": {
      "text/html": [
       "<div>\n",
       "<style>\n",
       "    .dataframe thead tr:only-child th {\n",
       "        text-align: right;\n",
       "    }\n",
       "\n",
       "    .dataframe thead th {\n",
       "        text-align: left;\n",
       "    }\n",
       "\n",
       "    .dataframe tbody tr th {\n",
       "        vertical-align: top;\n",
       "    }\n",
       "</style>\n",
       "<table border=\"1\" class=\"dataframe\">\n",
       "  <thead>\n",
       "    <tr style=\"text-align: right;\">\n",
       "      <th></th>\n",
       "      <th>a</th>\n",
       "      <th>b</th>\n",
       "      <th>c</th>\n",
       "      <th>d</th>\n",
       "      <th>e</th>\n",
       "      <th>f</th>\n",
       "    </tr>\n",
       "  </thead>\n",
       "  <tbody>\n",
       "    <tr>\n",
       "      <th>3</th>\n",
       "      <td>0.769827</td>\n",
       "      <td>0.945731</td>\n",
       "      <td>0.837680</td>\n",
       "      <td>0.169358</td>\n",
       "      <td>0.966708</td>\n",
       "      <td>0.119558</td>\n",
       "    </tr>\n",
       "    <tr>\n",
       "      <th>4</th>\n",
       "      <td>0.505638</td>\n",
       "      <td>0.515634</td>\n",
       "      <td>0.492517</td>\n",
       "      <td>0.533210</td>\n",
       "      <td>0.520326</td>\n",
       "      <td>0.993781</td>\n",
       "    </tr>\n",
       "    <tr>\n",
       "      <th>5</th>\n",
       "      <td>0.137022</td>\n",
       "      <td>0.186979</td>\n",
       "      <td>0.830193</td>\n",
       "      <td>0.345411</td>\n",
       "      <td>0.864171</td>\n",
       "      <td>0.449214</td>\n",
       "    </tr>\n",
       "    <tr>\n",
       "      <th>6</th>\n",
       "      <td>0.274480</td>\n",
       "      <td>0.156880</td>\n",
       "      <td>0.655505</td>\n",
       "      <td>0.063488</td>\n",
       "      <td>0.735741</td>\n",
       "      <td>0.500395</td>\n",
       "    </tr>\n",
       "  </tbody>\n",
       "</table>\n",
       "</div>"
      ],
      "text/plain": [
       "          a         b         c         d         e         f\n",
       "3  0.769827  0.945731  0.837680  0.169358  0.966708  0.119558\n",
       "4  0.505638  0.515634  0.492517  0.533210  0.520326  0.993781\n",
       "5  0.137022  0.186979  0.830193  0.345411  0.864171  0.449214\n",
       "6  0.274480  0.156880  0.655505  0.063488  0.735741  0.500395"
      ]
     },
     "execution_count": 24,
     "metadata": {},
     "output_type": "execute_result"
    }
   ],
   "source": [
    "df_split_copy = list(df_split)\n",
    "df_split_copy.pop(0)\n",
    "df3 = pd.DataFrame()\n",
    "# df2 = pd.DataFrame.append(df_split[0],df_split[1])\n",
    "for i in df_split_copy:\n",
    "    df3 = df3.append(i)\n",
    "df3"
   ]
  },
  {
   "cell_type": "code",
   "execution_count": 25,
   "metadata": {
    "scrolled": true
   },
   "outputs": [
    {
     "data": {
      "text/plain": [
       "[          a         b         c         d         e         f\n",
       " 0  0.098250  0.226167  0.365626  0.906162  0.224052  0.847546\n",
       " 1  0.957443  0.058971  0.622586  0.952835  0.241494  0.092930\n",
       " 2  0.524501  0.475641  0.782111  0.191920  0.902345  0.388506,\n",
       "           a         b         c         d         e         f\n",
       " 3  0.769827  0.945731  0.837680  0.169358  0.966708  0.119558\n",
       " 4  0.505638  0.515634  0.492517  0.533210  0.520326  0.993781,\n",
       "           a         b         c         d         e         f\n",
       " 5  0.137022  0.186979  0.830193  0.345411  0.864171  0.449214\n",
       " 6  0.274480  0.156880  0.655505  0.063488  0.735741  0.500395]"
      ]
     },
     "execution_count": 25,
     "metadata": {},
     "output_type": "execute_result"
    }
   ],
   "source": [
    "df_split"
   ]
  },
  {
   "cell_type": "code",
   "execution_count": 26,
   "metadata": {},
   "outputs": [
    {
     "data": {
      "text/plain": [
       "0    0.847546\n",
       "1    0.092930\n",
       "2    0.388506\n",
       "3    0.119558\n",
       "4    0.993781\n",
       "5    0.449214\n",
       "6    0.500395\n",
       "Name: f, dtype: float64"
      ]
     },
     "execution_count": 26,
     "metadata": {},
     "output_type": "execute_result"
    }
   ],
   "source": [
    "seri = df['f']\n",
    "seri"
   ]
  },
  {
   "cell_type": "code",
   "execution_count": null,
   "metadata": {
    "collapsed": true
   },
   "outputs": [],
   "source": []
  }
 ],
 "metadata": {
  "kernelspec": {
   "display_name": "Python 2",
   "language": "python",
   "name": "python2"
  },
  "language_info": {
   "codemirror_mode": {
    "name": "ipython",
    "version": 2
   },
   "file_extension": ".py",
   "mimetype": "text/x-python",
   "name": "python",
   "nbconvert_exporter": "python",
   "pygments_lexer": "ipython2",
   "version": "2.7.13"
  }
 },
 "nbformat": 4,
 "nbformat_minor": 2
}
